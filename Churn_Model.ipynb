{
  "nbformat": 4,
  "nbformat_minor": 0,
  "metadata": {
    "colab": {
      "name": "Churn_Model.ipynb",
      "provenance": [],
      "collapsed_sections": [],
      "authorship_tag": "ABX9TyMtQ9XoIkZPLPYLgpNyb8sP",
      "include_colab_link": true
    },
    "kernelspec": {
      "name": "python3",
      "display_name": "Python 3"
    },
    "language_info": {
      "name": "python"
    },
    "accelerator": "GPU"
  },
  "cells": [
    {
      "cell_type": "markdown",
      "metadata": {
        "id": "view-in-github",
        "colab_type": "text"
      },
      "source": [
        "<a href=\"https://colab.research.google.com/github/agnel-kf/Churn_Model/blob/main/Churn_Model.ipynb\" target=\"_parent\"><img src=\"https://colab.research.google.com/assets/colab-badge.svg\" alt=\"Open In Colab\"/></a>"
      ]
    },
    {
      "cell_type": "code",
      "metadata": {
        "id": "81m2mG8a9z6W"
      },
      "source": [
        "import pandas as pd\n",
        "import tensorflow as tf\n",
        "import numpy as np"
      ],
      "execution_count": 34,
      "outputs": []
    },
    {
      "cell_type": "markdown",
      "metadata": {
        "id": "TkPc6FVK_A5Z"
      },
      "source": [
        "## Data Preprocessing"
      ]
    },
    {
      "cell_type": "code",
      "metadata": {
        "colab": {
          "base_uri": "https://localhost:8080/"
        },
        "id": "YB4P4_-p-4lA",
        "outputId": "8e42207b-4c10-44b4-a043-c0fcd0c94c65"
      },
      "source": [
        "dataset = pd.read_csv('/Churn_Modelling.csv')\n",
        "X = dataset.iloc[:,3:-1].values\n",
        "y = dataset.iloc[:,-1].values\n",
        "y.reshape(len(y),1)\n",
        "print(X)\n",
        "print(y)"
      ],
      "execution_count": 35,
      "outputs": [
        {
          "output_type": "stream",
          "text": [
            "[[619 'France' 'Female' ... 1 1 101348.88]\n",
            " [608 'Spain' 'Female' ... 0 1 112542.58]\n",
            " [502 'France' 'Female' ... 1 0 113931.57]\n",
            " ...\n",
            " [709 'France' 'Female' ... 0 1 42085.58]\n",
            " [772 'Germany' 'Male' ... 1 0 92888.52]\n",
            " [792 'France' 'Female' ... 1 0 38190.78]]\n",
            "[1 0 1 ... 1 1 0]\n"
          ],
          "name": "stdout"
        }
      ]
    },
    {
      "cell_type": "markdown",
      "metadata": {
        "id": "hrOPxfh5_h8E"
      },
      "source": [
        "# Encoding\n",
        "## Label Encoding"
      ]
    },
    {
      "cell_type": "code",
      "metadata": {
        "colab": {
          "base_uri": "https://localhost:8080/"
        },
        "id": "WxFOdpOp_cKg",
        "outputId": "dc4fdca5-c57e-4b4d-c58b-b9531358cdd5"
      },
      "source": [
        "from sklearn.preprocessing import LabelEncoder,OneHotEncoder\n",
        "from sklearn.compose import ColumnTransformer\n",
        "le = LabelEncoder()\n",
        "X[:,2] = le.fit_transform(X[:,2])\n",
        "print(X)"
      ],
      "execution_count": 36,
      "outputs": [
        {
          "output_type": "stream",
          "text": [
            "[[619 'France' 0 ... 1 1 101348.88]\n",
            " [608 'Spain' 0 ... 0 1 112542.58]\n",
            " [502 'France' 0 ... 1 0 113931.57]\n",
            " ...\n",
            " [709 'France' 0 ... 0 1 42085.58]\n",
            " [772 'Germany' 1 ... 1 0 92888.52]\n",
            " [792 'France' 0 ... 1 0 38190.78]]\n"
          ],
          "name": "stdout"
        }
      ]
    },
    {
      "cell_type": "markdown",
      "metadata": {
        "id": "LUns53ZuLkkJ"
      },
      "source": [
        "## One Hot Encoding"
      ]
    },
    {
      "cell_type": "code",
      "metadata": {
        "colab": {
          "base_uri": "https://localhost:8080/"
        },
        "id": "N2PsfhpqKF1c",
        "outputId": "96873d89-593a-4c5a-8196-2d8e44daad06"
      },
      "source": [
        "ct = ColumnTransformer( transformers = [\n",
        "                         ('encoder',OneHotEncoder(),[1])\n",
        "],remainder = 'passthrough')\n",
        "X = np.array(ct.fit_transform(X))\n",
        "print(X)"
      ],
      "execution_count": 37,
      "outputs": [
        {
          "output_type": "stream",
          "text": [
            "[[1.0 0.0 0.0 ... 1 1 101348.88]\n",
            " [0.0 0.0 1.0 ... 0 1 112542.58]\n",
            " [1.0 0.0 0.0 ... 1 0 113931.57]\n",
            " ...\n",
            " [1.0 0.0 0.0 ... 0 1 42085.58]\n",
            " [0.0 1.0 0.0 ... 1 0 92888.52]\n",
            " [1.0 0.0 0.0 ... 1 0 38190.78]]\n"
          ],
          "name": "stdout"
        }
      ]
    },
    {
      "cell_type": "code",
      "metadata": {
        "id": "XzHxg6lYIrf1"
      },
      "source": [
        "from sklearn.model_selection import train_test_split\n",
        "train_X,val_X,train_y,val_y = train_test_split(X,y,test_size = 0.25,random_state = 1)"
      ],
      "execution_count": 38,
      "outputs": []
    },
    {
      "cell_type": "markdown",
      "metadata": {
        "id": "34-eI8gRPLlx"
      },
      "source": [
        "# Feature Scaling"
      ]
    },
    {
      "cell_type": "code",
      "metadata": {
        "id": "9z4o71ymPjQR"
      },
      "source": [
        "from sklearn.preprocessing import StandardScaler\n",
        "sc = StandardScaler()\n",
        "train_X = sc.fit_transform(train_X)\n",
        "val_X = sc.transform(val_X)"
      ],
      "execution_count": 39,
      "outputs": []
    },
    {
      "cell_type": "code",
      "metadata": {
        "colab": {
          "base_uri": "https://localhost:8080/"
        },
        "id": "WvPkbSoXQIpV",
        "outputId": "0dff522d-d8fd-4256-d8e4-1b2c202578a3"
      },
      "source": [
        "print(train_X)"
      ],
      "execution_count": 40,
      "outputs": [
        {
          "output_type": "stream",
          "text": [
            "[[ 1.00080032 -0.58207179 -0.57324462 ...  0.64262086  0.98333878\n",
            "  -1.48050131]\n",
            " [ 1.00080032 -0.58207179 -0.57324462 ...  0.64262086 -1.01694352\n",
            "  -1.56523002]\n",
            " [-0.99920032 -0.58207179  1.74445599 ...  0.64262086 -1.01694352\n",
            "  -1.18210827]\n",
            " ...\n",
            " [ 1.00080032 -0.58207179 -0.57324462 ...  0.64262086  0.98333878\n",
            "  -0.13896318]\n",
            " [ 1.00080032 -0.58207179 -0.57324462 ...  0.64262086  0.98333878\n",
            "   0.01979185]\n",
            " [-0.99920032  1.71800114 -0.57324462 ...  0.64262086 -1.01694352\n",
            "  -1.15605488]]\n"
          ],
          "name": "stdout"
        }
      ]
    },
    {
      "cell_type": "markdown",
      "metadata": {
        "id": "LRbXq_nyQc4W"
      },
      "source": [
        "# Building the model\n",
        "## Initialising the model"
      ]
    },
    {
      "cell_type": "code",
      "metadata": {
        "id": "lFeZQJPOQKgw"
      },
      "source": [
        "ann = tf.keras.models.Sequential()"
      ],
      "execution_count": 41,
      "outputs": []
    },
    {
      "cell_type": "markdown",
      "metadata": {
        "id": "GC3WKzWtQ59V"
      },
      "source": [
        "## Adding the input layer and hidden layer"
      ]
    },
    {
      "cell_type": "code",
      "metadata": {
        "id": "nQoJFrpoRIzq"
      },
      "source": [
        "ann.add(tf.keras.layers.Dense(units = 6,activation = 'relu'))"
      ],
      "execution_count": 42,
      "outputs": []
    },
    {
      "cell_type": "markdown",
      "metadata": {
        "id": "87aHQIrFR2pw"
      },
      "source": [
        "## Adding the second hidden layer"
      ]
    },
    {
      "cell_type": "code",
      "metadata": {
        "id": "BbaMSG66Rlrp"
      },
      "source": [
        "ann.add(tf.keras.layers.Dense(units = 6,activation = 'relu'))"
      ],
      "execution_count": 43,
      "outputs": []
    },
    {
      "cell_type": "markdown",
      "metadata": {
        "id": "XWFWiiowSRi5"
      },
      "source": [
        "## Adding the output layer"
      ]
    },
    {
      "cell_type": "code",
      "metadata": {
        "id": "SSr5F69ySPBL"
      },
      "source": [
        "ann.add(tf.keras.layers.Dense(units = 1,activation = 'sigmoid'))"
      ],
      "execution_count": 44,
      "outputs": []
    },
    {
      "cell_type": "markdown",
      "metadata": {
        "id": "8wA7ZtlHSz1g"
      },
      "source": [
        "# Training ANN on the Training Test\n",
        "## Compiling the ANN"
      ]
    },
    {
      "cell_type": "code",
      "metadata": {
        "id": "XlHXBy8yTR8t"
      },
      "source": [
        "ann.compile(optimizer = 'adam',loss = 'binary_crossentropy',metrics = ['accuracy'])"
      ],
      "execution_count": 45,
      "outputs": []
    },
    {
      "cell_type": "markdown",
      "metadata": {
        "id": "ozFJErVcTrVL"
      },
      "source": [
        ""
      ]
    },
    {
      "cell_type": "code",
      "metadata": {
        "colab": {
          "base_uri": "https://localhost:8080/"
        },
        "id": "Tu4gbbNWSphw",
        "outputId": "c94f6abb-6aa3-4109-a12f-2de0f3b5dc28"
      },
      "source": [
        "ann.fit(train_X,train_y,batch_size =32,epochs = 100 )"
      ],
      "execution_count": 46,
      "outputs": [
        {
          "output_type": "stream",
          "text": [
            "Epoch 1/100\n",
            "235/235 [==============================] - 1s 3ms/step - loss: 0.5551 - accuracy: 0.7421\n",
            "Epoch 2/100\n",
            "235/235 [==============================] - 1s 3ms/step - loss: 0.4571 - accuracy: 0.8025\n",
            "Epoch 3/100\n",
            "235/235 [==============================] - 1s 3ms/step - loss: 0.4399 - accuracy: 0.8109\n",
            "Epoch 4/100\n",
            "235/235 [==============================] - 1s 3ms/step - loss: 0.4300 - accuracy: 0.8140\n",
            "Epoch 5/100\n",
            "235/235 [==============================] - 1s 3ms/step - loss: 0.4234 - accuracy: 0.8160\n",
            "Epoch 6/100\n",
            "235/235 [==============================] - 1s 3ms/step - loss: 0.4182 - accuracy: 0.8184\n",
            "Epoch 7/100\n",
            "235/235 [==============================] - 1s 3ms/step - loss: 0.4133 - accuracy: 0.8227\n",
            "Epoch 8/100\n",
            "235/235 [==============================] - 1s 3ms/step - loss: 0.4079 - accuracy: 0.8253\n",
            "Epoch 9/100\n",
            "235/235 [==============================] - 1s 3ms/step - loss: 0.4028 - accuracy: 0.8293\n",
            "Epoch 10/100\n",
            "235/235 [==============================] - 1s 3ms/step - loss: 0.3976 - accuracy: 0.8319\n",
            "Epoch 11/100\n",
            "235/235 [==============================] - 1s 3ms/step - loss: 0.3916 - accuracy: 0.8353\n",
            "Epoch 12/100\n",
            "235/235 [==============================] - 1s 3ms/step - loss: 0.3855 - accuracy: 0.8376\n",
            "Epoch 13/100\n",
            "235/235 [==============================] - 1s 3ms/step - loss: 0.3781 - accuracy: 0.8409\n",
            "Epoch 14/100\n",
            "235/235 [==============================] - 1s 3ms/step - loss: 0.3707 - accuracy: 0.8449\n",
            "Epoch 15/100\n",
            "235/235 [==============================] - 1s 3ms/step - loss: 0.3645 - accuracy: 0.8488\n",
            "Epoch 16/100\n",
            "235/235 [==============================] - 1s 3ms/step - loss: 0.3593 - accuracy: 0.8493\n",
            "Epoch 17/100\n",
            "235/235 [==============================] - 1s 3ms/step - loss: 0.3558 - accuracy: 0.8517\n",
            "Epoch 18/100\n",
            "235/235 [==============================] - 1s 3ms/step - loss: 0.3526 - accuracy: 0.8535\n",
            "Epoch 19/100\n",
            "235/235 [==============================] - 1s 3ms/step - loss: 0.3500 - accuracy: 0.8555\n",
            "Epoch 20/100\n",
            "235/235 [==============================] - 1s 3ms/step - loss: 0.3480 - accuracy: 0.8576\n",
            "Epoch 21/100\n",
            "235/235 [==============================] - 1s 3ms/step - loss: 0.3465 - accuracy: 0.8577\n",
            "Epoch 22/100\n",
            "235/235 [==============================] - 1s 3ms/step - loss: 0.3451 - accuracy: 0.8573\n",
            "Epoch 23/100\n",
            "235/235 [==============================] - 1s 3ms/step - loss: 0.3443 - accuracy: 0.8577\n",
            "Epoch 24/100\n",
            "235/235 [==============================] - 1s 3ms/step - loss: 0.3429 - accuracy: 0.8591\n",
            "Epoch 25/100\n",
            "235/235 [==============================] - 1s 3ms/step - loss: 0.3422 - accuracy: 0.8603\n",
            "Epoch 26/100\n",
            "235/235 [==============================] - 1s 3ms/step - loss: 0.3418 - accuracy: 0.8596\n",
            "Epoch 27/100\n",
            "235/235 [==============================] - 1s 3ms/step - loss: 0.3411 - accuracy: 0.8591\n",
            "Epoch 28/100\n",
            "235/235 [==============================] - 1s 3ms/step - loss: 0.3405 - accuracy: 0.8600\n",
            "Epoch 29/100\n",
            "235/235 [==============================] - 1s 3ms/step - loss: 0.3402 - accuracy: 0.8604\n",
            "Epoch 30/100\n",
            "235/235 [==============================] - 1s 3ms/step - loss: 0.3398 - accuracy: 0.8588\n",
            "Epoch 31/100\n",
            "235/235 [==============================] - 1s 3ms/step - loss: 0.3397 - accuracy: 0.8605\n",
            "Epoch 32/100\n",
            "235/235 [==============================] - 1s 3ms/step - loss: 0.3392 - accuracy: 0.8615\n",
            "Epoch 33/100\n",
            "235/235 [==============================] - 1s 3ms/step - loss: 0.3393 - accuracy: 0.8571\n",
            "Epoch 34/100\n",
            "235/235 [==============================] - 1s 3ms/step - loss: 0.3389 - accuracy: 0.8592\n",
            "Epoch 35/100\n",
            "235/235 [==============================] - 1s 3ms/step - loss: 0.3385 - accuracy: 0.8605\n",
            "Epoch 36/100\n",
            "235/235 [==============================] - 1s 3ms/step - loss: 0.3386 - accuracy: 0.8601\n",
            "Epoch 37/100\n",
            "235/235 [==============================] - 1s 3ms/step - loss: 0.3380 - accuracy: 0.8605\n",
            "Epoch 38/100\n",
            "235/235 [==============================] - 1s 3ms/step - loss: 0.3381 - accuracy: 0.8591\n",
            "Epoch 39/100\n",
            "235/235 [==============================] - 1s 3ms/step - loss: 0.3381 - accuracy: 0.8596\n",
            "Epoch 40/100\n",
            "235/235 [==============================] - 1s 3ms/step - loss: 0.3378 - accuracy: 0.8625\n",
            "Epoch 41/100\n",
            "235/235 [==============================] - 1s 3ms/step - loss: 0.3376 - accuracy: 0.8597\n",
            "Epoch 42/100\n",
            "235/235 [==============================] - 1s 3ms/step - loss: 0.3372 - accuracy: 0.8597\n",
            "Epoch 43/100\n",
            "235/235 [==============================] - 1s 3ms/step - loss: 0.3375 - accuracy: 0.8596\n",
            "Epoch 44/100\n",
            "235/235 [==============================] - 1s 3ms/step - loss: 0.3377 - accuracy: 0.8601\n",
            "Epoch 45/100\n",
            "235/235 [==============================] - 1s 3ms/step - loss: 0.3374 - accuracy: 0.8604\n",
            "Epoch 46/100\n",
            "235/235 [==============================] - 1s 3ms/step - loss: 0.3371 - accuracy: 0.8597\n",
            "Epoch 47/100\n",
            "235/235 [==============================] - 1s 3ms/step - loss: 0.3371 - accuracy: 0.8601\n",
            "Epoch 48/100\n",
            "235/235 [==============================] - 1s 3ms/step - loss: 0.3370 - accuracy: 0.8601\n",
            "Epoch 49/100\n",
            "235/235 [==============================] - 1s 3ms/step - loss: 0.3369 - accuracy: 0.8592\n",
            "Epoch 50/100\n",
            "235/235 [==============================] - 1s 3ms/step - loss: 0.3369 - accuracy: 0.8588\n",
            "Epoch 51/100\n",
            "235/235 [==============================] - 1s 3ms/step - loss: 0.3364 - accuracy: 0.8604\n",
            "Epoch 52/100\n",
            "235/235 [==============================] - 1s 3ms/step - loss: 0.3364 - accuracy: 0.8605\n",
            "Epoch 53/100\n",
            "235/235 [==============================] - 1s 3ms/step - loss: 0.3366 - accuracy: 0.8603\n",
            "Epoch 54/100\n",
            "235/235 [==============================] - 1s 3ms/step - loss: 0.3362 - accuracy: 0.8613\n",
            "Epoch 55/100\n",
            "235/235 [==============================] - 1s 3ms/step - loss: 0.3364 - accuracy: 0.8603\n",
            "Epoch 56/100\n",
            "235/235 [==============================] - 1s 3ms/step - loss: 0.3360 - accuracy: 0.8607\n",
            "Epoch 57/100\n",
            "235/235 [==============================] - 1s 3ms/step - loss: 0.3355 - accuracy: 0.8599\n",
            "Epoch 58/100\n",
            "235/235 [==============================] - 1s 3ms/step - loss: 0.3361 - accuracy: 0.8589\n",
            "Epoch 59/100\n",
            "235/235 [==============================] - 1s 3ms/step - loss: 0.3360 - accuracy: 0.8597\n",
            "Epoch 60/100\n",
            "235/235 [==============================] - 1s 3ms/step - loss: 0.3359 - accuracy: 0.8589\n",
            "Epoch 61/100\n",
            "235/235 [==============================] - 1s 3ms/step - loss: 0.3358 - accuracy: 0.8589\n",
            "Epoch 62/100\n",
            "235/235 [==============================] - 1s 3ms/step - loss: 0.3357 - accuracy: 0.8595\n",
            "Epoch 63/100\n",
            "235/235 [==============================] - 1s 3ms/step - loss: 0.3357 - accuracy: 0.8601\n",
            "Epoch 64/100\n",
            "235/235 [==============================] - 1s 3ms/step - loss: 0.3355 - accuracy: 0.8595\n",
            "Epoch 65/100\n",
            "235/235 [==============================] - 1s 3ms/step - loss: 0.3353 - accuracy: 0.8603\n",
            "Epoch 66/100\n",
            "235/235 [==============================] - 1s 3ms/step - loss: 0.3352 - accuracy: 0.8587\n",
            "Epoch 67/100\n",
            "235/235 [==============================] - 1s 3ms/step - loss: 0.3354 - accuracy: 0.8611\n",
            "Epoch 68/100\n",
            "235/235 [==============================] - 1s 3ms/step - loss: 0.3355 - accuracy: 0.8587\n",
            "Epoch 69/100\n",
            "235/235 [==============================] - 1s 3ms/step - loss: 0.3350 - accuracy: 0.8608\n",
            "Epoch 70/100\n",
            "235/235 [==============================] - 1s 3ms/step - loss: 0.3346 - accuracy: 0.8601\n",
            "Epoch 71/100\n",
            "235/235 [==============================] - 1s 3ms/step - loss: 0.3350 - accuracy: 0.8589\n",
            "Epoch 72/100\n",
            "235/235 [==============================] - 1s 3ms/step - loss: 0.3349 - accuracy: 0.8591\n",
            "Epoch 73/100\n",
            "235/235 [==============================] - 1s 3ms/step - loss: 0.3349 - accuracy: 0.8584\n",
            "Epoch 74/100\n",
            "235/235 [==============================] - 1s 3ms/step - loss: 0.3347 - accuracy: 0.8595\n",
            "Epoch 75/100\n",
            "235/235 [==============================] - 1s 3ms/step - loss: 0.3350 - accuracy: 0.8580\n",
            "Epoch 76/100\n",
            "235/235 [==============================] - 1s 3ms/step - loss: 0.3345 - accuracy: 0.8584\n",
            "Epoch 77/100\n",
            "235/235 [==============================] - 1s 3ms/step - loss: 0.3345 - accuracy: 0.8607\n",
            "Epoch 78/100\n",
            "235/235 [==============================] - 1s 3ms/step - loss: 0.3344 - accuracy: 0.8600\n",
            "Epoch 79/100\n",
            "235/235 [==============================] - 1s 3ms/step - loss: 0.3345 - accuracy: 0.8596\n",
            "Epoch 80/100\n",
            "235/235 [==============================] - 1s 3ms/step - loss: 0.3347 - accuracy: 0.8589\n",
            "Epoch 81/100\n",
            "235/235 [==============================] - 1s 3ms/step - loss: 0.3346 - accuracy: 0.8597\n",
            "Epoch 82/100\n",
            "235/235 [==============================] - 1s 3ms/step - loss: 0.3346 - accuracy: 0.8600\n",
            "Epoch 83/100\n",
            "235/235 [==============================] - 1s 3ms/step - loss: 0.3345 - accuracy: 0.8591\n",
            "Epoch 84/100\n",
            "235/235 [==============================] - 1s 3ms/step - loss: 0.3344 - accuracy: 0.8604\n",
            "Epoch 85/100\n",
            "235/235 [==============================] - 1s 3ms/step - loss: 0.3341 - accuracy: 0.8593\n",
            "Epoch 86/100\n",
            "235/235 [==============================] - 1s 3ms/step - loss: 0.3338 - accuracy: 0.8615\n",
            "Epoch 87/100\n",
            "235/235 [==============================] - 1s 3ms/step - loss: 0.3344 - accuracy: 0.8584\n",
            "Epoch 88/100\n",
            "235/235 [==============================] - 1s 3ms/step - loss: 0.3337 - accuracy: 0.8611\n",
            "Epoch 89/100\n",
            "235/235 [==============================] - 1s 3ms/step - loss: 0.3339 - accuracy: 0.8596\n",
            "Epoch 90/100\n",
            "235/235 [==============================] - 1s 3ms/step - loss: 0.3341 - accuracy: 0.8596\n",
            "Epoch 91/100\n",
            "235/235 [==============================] - 1s 3ms/step - loss: 0.3344 - accuracy: 0.8596\n",
            "Epoch 92/100\n",
            "235/235 [==============================] - 1s 3ms/step - loss: 0.3339 - accuracy: 0.8592\n",
            "Epoch 93/100\n",
            "235/235 [==============================] - 1s 3ms/step - loss: 0.3339 - accuracy: 0.8592\n",
            "Epoch 94/100\n",
            "235/235 [==============================] - 1s 3ms/step - loss: 0.3336 - accuracy: 0.8596\n",
            "Epoch 95/100\n",
            "235/235 [==============================] - 1s 3ms/step - loss: 0.3341 - accuracy: 0.8597\n",
            "Epoch 96/100\n",
            "235/235 [==============================] - 1s 3ms/step - loss: 0.3341 - accuracy: 0.8603\n",
            "Epoch 97/100\n",
            "235/235 [==============================] - 1s 3ms/step - loss: 0.3337 - accuracy: 0.8604\n",
            "Epoch 98/100\n",
            "235/235 [==============================] - 1s 3ms/step - loss: 0.3337 - accuracy: 0.8600\n",
            "Epoch 99/100\n",
            "235/235 [==============================] - 1s 3ms/step - loss: 0.3335 - accuracy: 0.8601\n",
            "Epoch 100/100\n",
            "235/235 [==============================] - 1s 3ms/step - loss: 0.3334 - accuracy: 0.8620\n"
          ],
          "name": "stdout"
        },
        {
          "output_type": "execute_result",
          "data": {
            "text/plain": [
              "<tensorflow.python.keras.callbacks.History at 0x7f40ac72de50>"
            ]
          },
          "metadata": {
            "tags": []
          },
          "execution_count": 46
        }
      ]
    },
    {
      "cell_type": "markdown",
      "metadata": {
        "id": "BWJDfTIKUFzE"
      },
      "source": [
        "# Predicting and Evaluating the Test Set"
      ]
    },
    {
      "cell_type": "code",
      "metadata": {
        "colab": {
          "base_uri": "https://localhost:8080/"
        },
        "id": "TFS1Y51GUFBL",
        "outputId": "1d57dd49-3658-4577-829b-fe7da217fe67"
      },
      "source": [
        "y_preds = ann.predict(val_X)\n",
        "y_preds = (y_preds > 0.5)\n",
        "print(np.concatenate((y_preds.reshape(len(y_preds),1), val_y.reshape(len(val_y),1)),1))"
      ],
      "execution_count": 47,
      "outputs": [
        {
          "output_type": "stream",
          "text": [
            "[[0 0]\n",
            " [0 0]\n",
            " [0 0]\n",
            " ...\n",
            " [1 1]\n",
            " [0 0]\n",
            " [0 0]]\n"
          ],
          "name": "stdout"
        }
      ]
    },
    {
      "cell_type": "markdown",
      "metadata": {
        "id": "_8Syh7zaXr3m"
      },
      "source": [
        "## Predicting an individual row"
      ]
    },
    {
      "cell_type": "markdown",
      "metadata": {
        "id": "kQNqItcbd4M6"
      },
      "source": [
        "Geography: France\n",
        "\n",
        "Credit Score: 600\n",
        "\n",
        "Gender: Male\n",
        "\n",
        "Age: 40 years old\n",
        "\n",
        "Tenure: 3 years\n",
        "\n",
        "Balance: \\$ 60000\n",
        "\n",
        "Number of Products: 2\n",
        "\n",
        "Does this customer have a credit card ? Yes\n",
        "\n",
        "Is this customer an Active Member: Yes\n",
        "\n",
        "Estimated Salary: \\$ 50000\n",
        "\n",
        "So, should we say goodbye to that customer ?"
      ]
    },
    {
      "cell_type": "code",
      "metadata": {
        "colab": {
          "base_uri": "https://localhost:8080/"
        },
        "id": "C6aVjHbJUYLR",
        "outputId": "54b5d0b7-2774-4102-b033-3c0766c1d3ad"
      },
      "source": [
        "\n",
        "example_prediction = ann.predict(sc.transform([[1, 0, 0, 600, 1, 40, 3, 60000, 2, 1, 1, 50000]]))\n",
        "print(example_prediction> 0.5)"
      ],
      "execution_count": 49,
      "outputs": [
        {
          "output_type": "stream",
          "text": [
            "[[False]]\n"
          ],
          "name": "stdout"
        }
      ]
    },
    {
      "cell_type": "markdown",
      "metadata": {
        "id": "3bV41iQedMHC"
      },
      "source": [
        "## Evaluating the model"
      ]
    },
    {
      "cell_type": "code",
      "metadata": {
        "colab": {
          "base_uri": "https://localhost:8080/"
        },
        "id": "ClPGnOC4YFj4",
        "outputId": "012b9660-61f8-4fc9-ae3c-8e70332501b7"
      },
      "source": [
        "from sklearn.metrics import confusion_matrix,accuracy_score\n",
        "ct = confusion_matrix(val_y,y_preds)\n",
        "print(ct)\n",
        "accuracy_score(val_y,y_preds)"
      ],
      "execution_count": 50,
      "outputs": [
        {
          "output_type": "stream",
          "text": [
            "[[1909   71]\n",
            " [ 268  252]]\n"
          ],
          "name": "stdout"
        },
        {
          "output_type": "execute_result",
          "data": {
            "text/plain": [
              "0.8644"
            ]
          },
          "metadata": {
            "tags": []
          },
          "execution_count": 50
        }
      ]
    },
    {
      "cell_type": "code",
      "metadata": {
        "id": "JS3OQrmrdlFj"
      },
      "source": [
        ""
      ],
      "execution_count": null,
      "outputs": []
    }
  ]
}